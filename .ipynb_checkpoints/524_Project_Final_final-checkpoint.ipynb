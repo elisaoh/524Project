{
 "cells": [
  {
   "cell_type": "markdown",
   "metadata": {},
   "source": [
    "### CS/ECE/ISyE 524 &mdash; Introduction to Optimization &mdash; Spring 2018 ###\n",
    "\n",
    "# \"Will I Graduate?\" An optimal Course Planner #\n",
    "\n",
    "#### Michael Fernandes (mfernandes2@wisc.edu), Prasanna Venkatesh Ramadas (pramadas@wisc.edu), Elisa Ou (elisa.ou@wisc.edu), and Krishnan Rajagopalan (krajagopalan@wisc.edu)\n",
    "\n",
    "*****\n",
    "\n",
    "### Table of Contents\n",
    "\n",
    "1. [Introduction](#1.-Introduction)\n",
    "1. [Mathematical Model](#2.-Mathematical-model)\n",
    "  1. [Variables](#2.A.-Variables)\n",
    "  1. [Constraints](#2.B.-Constraints)\n",
    "  1. [Models](#2.C.-Models)\n",
    "      1. [Tuition fee (dicrete function)](#2.C.a-Tuition)\n",
    "      1. [A Toy Example of Modeling Average](#2.C.b-A-toy-example-of-modeling-average)\n",
    "      1. [GPA (weighted average)](#2.C.c-GPA)\n",
    "      1. [Knowledge Gain](#2.C.d-Knowledge-Gain)\n",
    "      1. [Minimal Difficulty](#2.C.e-Minimal-Difficulty)\n",
    "1. [Solution](#3.-Solution)\n",
    "1. [Results and Discussion](#4.-Results-and-discussion)\n",
    "    1. [Regularization](#4.A.-Regularization:-picking-the-best-among-optimal-solutions)\n",
    "    1. [Thanks to Gurobi](#4.B.-Thanks-to-Gurobi)\n",
    "    1. [Limitations of the model](#4.C.-Limitation-of-the-model)\n",
    "    \n",
    "1. [Conclusion](#5.-Conclusion)"
   ]
  },
  {
   "cell_type": "markdown",
   "metadata": {},
   "source": [
    "## 1. Introduction ##"
   ]
  },
  {
   "cell_type": "markdown",
   "metadata": {},
   "source": [
    "\"Art is long. Life is short\". The University of Wisconsin-Madison offers an overwhelming number of interesting courses. Michael is amazed and wants to take all the best courses that would make him an expert in his domain. Elisa has been a top-performing student since her high school and would want to take those only courses that make her GPA as high as possible. She does not want to risk her GPA. Prasanna wants to put the least effort towards his degree and would rather spend the rest of his time partying. And there is Krishnan who is a mix of the three. This is just a sample space of any student who wishes to pursue Graduate studies.\n",
    "\n",
    "We propose to design a student-friendly course planner that outputs an optimal schedule based on his/her preferences to graduate. The data used in our project is taken from the course list offered by CS department at UW-Madison (https://www.cs.wisc.edu/courses/list).\n",
    "We model the problem as a mixed-integer linear program (MILP). Though the objectives to graduate are different for every person, we assume that every student's objective falls into one of the following categories :\n",
    "* Maximize grade point average \n",
    "* Graduate by choosing courses of minimum difficulty \n",
    "* Graduate by spending minimum tuition fees \n",
    "* Graduate with maximum knowledge in his/her's area of interest \n",
    "\n",
    "The motivation for this problem comes from the scheduling problem studied in class. We propose to provide the optimal schedule based on the student's objective. \n",
    "The general problem setting is as follows:\n",
    "\n",
    "* Complete the number of credits needed to graduate.\n",
    "* Courses are numbered 200 through 900. Courses numbered 700 through 900 are core credit courses and the rest are non-core credits.\n",
    "* Every course is associated with a fixed number of credits. Credits vary from 1 to 6.\n",
    "* Courses are offered only in Spring or Fall semester or both. \n",
    "* The university demands that atleast 50 percent of the credits should be core credits. \n",
    "\n",
    "Here is a toy sample of the data which we used intially to conduct tests and verify our algorithms \n",
    "\n",
    "\n",
    "| code|Prerequisites| AI| Systems| PL |Credits |Expected GPA|\n",
    "| ------------- |:-------------:| -----:|-----:|-----:|---------:|\n",
    "| 300| -    |0    |0.5   |1   |3  |2.9\n",
    "| 524| 300  | 0.5 |0     |0   |3  |3.4\n",
    "| 532| 300  |2    |0     |0   |3  |3.5\n",
    "| 240| -    | 0   |0     |0.5 |3  |2.8\n",
    "|540 | 240  |1    |0     |0   |3  |3.25\n",
    "|760 |540  |2     |0     |0   |3  |3.7\n",
    "Also, since each couse has it's own schedule, we made a table consisting of the schedule of each of the courses. We do this, so that courses selected by our model do not have overlaping schedules \n",
    "\n",
    "| code|Monday|Tuesday| Wenesday|Thursday|Friday|Start Time|End Time|\n",
    "| ------------- |:-------------:| -----:|-----:|-----:|---------:|\n",
    "| 300| 1  | 0  |0     |0  | 0|8    |11\n",
    "| 524| 0  | 1  |0     |1  |0 |1    |2.55\n",
    "| 532| 1  | 0  |1     |0  |0 |11   |12.15\n",
    "| 240| 0  | 1  |0     |1  |0 |2.3  |3.45\n",
    "|540 | 1  |0   |1     |0  |1 |8.5  |9.40\n",
    "|760 | 1  |0   |1     |0  |0 |1    |2.15"
   ]
  },
  {
   "cell_type": "markdown",
   "metadata": {},
   "source": [
    "## 2. Mathematical model ##"
   ]
  },
  {
   "cell_type": "markdown",
   "metadata": {},
   "source": [
    "We use the MILP model to solve the problem. The following sections discuss the variables, constraints and the objective functions present in each of the models. \n",
    "\n",
    "We have used different model instances for different objectives. As stated above, we consider multiple objectives as each student might want to optimize the course schedule according to his/her interests and goals. "
   ]
  },
  {
   "cell_type": "markdown",
   "metadata": {},
   "source": [
    "### 2.A. Variables\n",
    "We define several variables to represent whether a course is taken:\n",
    "\n",
    "$\\mathbf{z}$ is a boolean vector of size $N$, where $N$ denotes total number of courses offered by the Computer Science department for both the Fall and Spring semesters: \n",
    "\n",
    "$$\\mathbf{z}_i= \\begin{cases} \n",
    "      1 & \\text{course $i$ is taken} \\\\\n",
    "      0 & \\text{otherwise}\n",
    "   \\end{cases}\n",
    "$$\n",
    "$\\mathbf{zj}$ is a boolean vector of size $N$: \n",
    "$$\\mathbf{zj}_i= \\begin{cases} \n",
    "      1 & \\text{course $i$ is taken in the $j^{th}$ semester} \\\\\n",
    "      0 & \\text{otherwise}\n",
    "   \\end{cases}\n",
    "$$"
   ]
  },
  {
   "cell_type": "markdown",
   "metadata": {},
   "source": [
    "### 2.B. Constraints\n",
    "In this part, we provide with the details of the common constraints that are present in all the models. These include time conflicts, prerequisites and credits required for graduation."
   ]
  },
  {
   "cell_type": "markdown",
   "metadata": {},
   "source": [
    "#### 2.B.a. Time Conflicts\n",
    "In our schedule data table, for each course we have the semester, the day, the start time and the end time. Based on this, we construct a conflict matrix $\\mathbf{C} \\in \\mathbb{R}^{N \\times N}$, in which: \n",
    "$$\\mathbf{C}_{ij}= \\begin{cases} \n",
    "      1 & \\text{if course $i$ and $j$ is overlapping} \\\\\n",
    "      0 & \\text{otherwise}.\n",
    "   \\end{cases}\n",
    "$$\n",
    "\n",
    "To fill in this matrix, first we check if the two courses $i$ and $j$ are offered in the same semester, same day and whether their time is overlapping.\n",
    "\n",
    "* Semester offered: For each course, we assign $\\{-1,1,0\\}$ to indicate in which semester the course is offered.\n",
    "\n",
    "$$\\mathbf{s}_{i}= \\begin{cases} \n",
    "      1 & \\text{if course $i$ is offered in fall only} \\\\\n",
    "      -1 & \\text{if course $i$ is offered in spring only} \\\\\n",
    "      0 & \\text{if course $i$ is offered both in fall and spring}.\n",
    "   \\end{cases}\n",
    "$$\n",
    "\n",
    "We do not take summer semester into consideration.\n",
    "\n",
    "* Day offered: For all courses, we have a matrix $\\mathbf{D}_{ik},i \\in courses, k \\in \\{1,2,...,5\\}$ indicating whether course $i$ is scheduled on day $k$ or not.\n",
    "\n",
    "$$\\mathbf{D}_{ik}= \\begin{cases} \n",
    "      1 & \\text{if course $i$ is offered on day $k$} \\\\\n",
    "      0 & \\text{otherwise}.\n",
    "   \\end{cases}\n",
    "$$\n",
    "We do not consider weekend classes.\n",
    "\n",
    "* Time schedule: If they are scheduled at the same day, we then consider if $i$ and $j$ are overlapping, if:\n",
    "\n",
    "$$t^i_{start} < t^j_{end}\\quad and\\quad t^j_{start} < t^i_{end}$$\n",
    "\n",
    "Here $t^i_{start}$ denotes the start time of course $i$ and $t^i_{end}$ denotes the end time.\n",
    "\n",
    "To combine this three conditions:\n",
    "$$\\mathbf{s}_{i}\\mathbf{s}_{j}\\geq 0\\;\\&\\;\\mathbf{D}_{ik}\\mathbf{D}_{jk}=1\\; \\& \\; (t^i_{start}-t^j_{end})(t^j_{start}-t^i_{end})>0\\; \\rightarrow \\mathbf{C}_{ij}=1$$\n",
    "\n",
    "* $\\mathbf{s}_{i}.\\mathbf{s}_{j}\\geq 0$ would be true only if both the courses ${s}_{i}$ and ${s}_{j}$ were offered in Fall or if both courses were offered in Spring or if both courses were offered throughout the year or if either one of the courses was offered throughout the year while the other one was offered in only one of the semesters.\n",
    "\n",
    "* $\\mathbf{D}_{ik}\\mathbf{D}_{jk}=1\\;$ would be true only if both the courses ${s}_{i}$ and ${s}_{j}$ were offered on the same day $k$.\n",
    "\n",
    "* $(t^i_{start}-t^j_{end})(t^j_{start}-t^i_{end})>0\\;$ only if the two courses overlap with respect to the time of the day."
   ]
  },
  {
   "cell_type": "markdown",
   "metadata": {},
   "source": [
    "#### 2.B.b. Prerequisites \n",
    "This is same as the real life settings i.e. for a particular course we have one or two prerequisites. So for each course each semester, we check if the prerequisites of this course were taken in previous semesters or not. If not, we can not take this course in the current semester.\n",
    "\n",
    "We model te prerequisites as follows. Let us for example consider courses and their prerequisites for semester 3 :\n",
    "\n",
    "$${z3}_j >= {z3}_i$$\n",
    "where course $j$ is in the prerequisite list of course $i$. This means that if the prerequisite course is not taken i.e. ${z3}_j = 0$ then the current course cannot be taken i.e. ${z3}_i = 0$.\n",
    "\n",
    "Also, we have an additonal constraint that both the course and it's prerequisite cannot be taken in the same semester.\n",
    "$${z3}_j + {z3}_i <= 1$$"
   ]
  },
  {
   "cell_type": "markdown",
   "metadata": {},
   "source": [
    "#### 2.B.c. Credits\n",
    "* Total credits: a student needs at least 30 credits to graduate.\n",
    "* Credits per semester: we do not explicitly set a minimum credit for each semester. Instead, we require a student taking at least one course per semester\n",
    "* Core credits: We define any courses above 700 level as core courses. And to simplify our model, we add a constraint that a student needs at least 3 credits of core courses to graduate."
   ]
  },
  {
   "cell_type": "markdown",
   "metadata": {},
   "source": [
    "### 2.C. Models\n",
    "#### 2.C.a Tuition\n",
    "We obtain tuition fee data from [UW-Madison website](https://registrar.wisc.edu/tuitionrates/).\n",
    "\n",
    "| Credits        | Tuition  | Segregated |Total |\n",
    "| ------------- |:-------------:| -----:|-----:|\n",
    "| 1     | \\$1,601.29      |\\$97.89 |\\$1699.18 |\n",
    "| 2     | \\$3,177.08      | \\$170.28 |\\$3347.36 |\n",
    "| 3 | \\$4,752.87      | \\$242.67 |\\$4995.54 |\n",
    "| 4 to 7 | \\$6,328.66      | \\$315.06 |\\$6643.72 |\n",
    "| 8 | \\$7,832.06      | \\$315.06 |\\$8147.12 |\n",
    "| 9+ | \\$9,335.46      | \\$315.06 |\\$9650.52 |\n",
    "\n",
    "Total fee is a discrete-valued function. "
   ]
  },
  {
   "cell_type": "code",
   "execution_count": 1,
   "metadata": {
    "scrolled": true
   },
   "outputs": [
    {
     "data": {
      "image/png": "[encoded data removed]",
      "text/plain": [
       "PyPlot.Figure(PyObject <matplotlib.figure.Figure object at 0x0000000031F3D828>)"
      ]
     },
     "metadata": {},
     "output_type": "display_data"
    }
   ],
   "source": [
    "using PyPlot\n",
    "credits_per_semester = 1:16;\n",
    "total_fee_per = [1699.18,3347.36,4995.54,6643.72,8147.12,9650.52,9650.52,9650.52,9650.52,\n",
    "9650.52,9650.52,9650.52,9650.52,9650.52,9650.52,9650.52]; \n",
    "\n",
    "figure(figsize=(8,3))\n",
    "plot( credits_per_semester, total_fee_per, \"r.\", markersize=10)\n",
    "xlabel(\"Credits\")\n",
    "ylabel(\"Total fee\")\n",
    "grid()"
   ]
  },
  {
   "cell_type": "markdown",
   "metadata": {},
   "source": [
    "Model this function using SOS1 constraints, we have:\n",
    "\n",
    "$(\\mathbf{c}_i,\\mathbf{f}_i)$, i = 1,2,...,16 be admissible (x,y) pairs, in which $\\mathbf{c}$ denotes credit taken per semster and $\\mathbf{f}$ denotes corresponding fees.\n",
    "And for each semster, we have a SOS1 constraint for variable $\\mathbf{\\lambda}$. Therefore, our model is\n",
    "\n",
    "$$credits = \\sum_{i=1}^{16} \\mathbf{c}_i \\mathbf{\\lambda}_i$$\n",
    "$$fee = \\sum_{i=1}^{16} \\mathbf{f}_i \\mathbf{\\lambda}_i$$\n",
    "$$\\sum_{i=1}^{16} \\mathbf{\\lambda}_i=1,\\; \\lambda_i \\geq 0$$\n",
    "\n",
    "$${\\lambda_1,...,\\lambda_m}\\; \\mathrm{is\\; SOS1}.$$\n",
    "$credits$ is how many credits are taken this semster and $fee$ is the total tuition fee for this correspoding credits.\n",
    "\n",
    "For speed consideration, we actually use the algebraic forumlation instead, which is:\n",
    "$$credits = \\sum_{i=1}^{16} \\mathbf{c}_i \\mathbf{\\lambda}_i$$\n",
    "$$fee = \\sum_{i=1}^{16} \\mathbf{f}_i \\mathbf{\\lambda}_i$$\n",
    "$$\\sum_{i=1}^{16} \\mathbf{\\lambda}_i=1$$\n",
    "\n",
    "$$\\lambda_i,...,\\lambda_m \\in \\{0,1\\}.$$\n"
   ]
  },
  {
   "cell_type": "markdown",
   "metadata": {},
   "source": [
    "#### 2.C.b A toy example of modeling average\n",
    "To lead to model GPA, first we need to consider how to model the average of a set of values as each course contributes equally to a student's GPA.\n",
    "Let's consider a simple optimization problem first. \n",
    "Choose several elements in a set so that the number of elements plus the average of chosen elements are maximized.\n",
    "That is\n",
    "\n",
    "$$\n",
    "\\begin{aligned}\n",
    "\\underset{\\mathbf{x}}{\\text{maximize}}\\qquad& \\frac{\\sum_{i=1}^n \\mathbf{x}_i \\mathbf{a}_i}{\\sum_{i=1}^n \\mathbf{x}_i} \\\\\n",
    "\\text{subject to:}\\qquad& \\mathbf{x}_i \\in \\{0,1\\} && i=1,\\dots,n\\\\\n",
    "\\end{aligned}\n",
    "$$\n",
    "\n",
    "$\\mathbf{a}_i$ is the $i^{th}$ element in a set of number $\\mathbf{a}$.\n",
    "This problem seems easy at first glance. However, we have variables in our demominator, which is neither a linear problem nor a quadratic problem. It is an integer problem with variables in the demominator. \n",
    "\n",
    "We come up with two ways to solve this problem. One is using logic constraints with extra logic variables to get a precise results. The other is to use infinity norm or 2-norm to approximate the average."
   ]
  },
  {
   "cell_type": "markdown",
   "metadata": {},
   "source": [
    "* **Using 2-norm/infinity norm to approximate the average:** In this method, we try to introduce a new variable $\\mathbf{wt}$ to explicitly assign weights to $\\mathbf{a}$. To get the average of all the selected elements, we want weights to be equal for each selected element. We also know that 2-norm and infinity norm have the effect of smoothing. So we add a large penalty term to the original objective function. Here $p$ is 2 or infinity.\n",
    "\n",
    "\\begin{aligned}\n",
    "\\underset{\\mathbf{x},\\mathbf{wt}}{\\text{maximize}}\\qquad& \\sum_{i=1}^n \\mathbf{wt}_i \\mathbf{a}_i - \\lambda \\|\\mathbf{wt}\\|_p \\\\\n",
    "\\text{subject to:}\\qquad\n",
    "                  &\\sum_{i=1}^n \\mathbf{wt}_i = 1 \\\\\n",
    "                  & \\mathbf{wt}_i \\geq (1-\\mathbf{x}_i)+\\epsilon \\mathbf{x}_i && i=1,\\dots,n\\\\\n",
    "                  &\\mathbf{wt}_i \\geq 0 && i=1,\\dots,n \\\\\n",
    "                  & \\mathbf{x}_i \\in \\{0,1\\} && i=1,\\dots,n\\\\\n",
    "\\end{aligned}\n",
    "\n"
   ]
  },
  {
   "cell_type": "code",
   "execution_count": 2,
   "metadata": {},
   "outputs": [],
   "source": [
    "a = [100,2,3,4,5,6,7,8];"
   ]
  },
  {
   "cell_type": "code",
   "execution_count": 3,
   "metadata": {},
   "outputs": [
    {
     "name": "stdout",
     "output_type": "stream",
     "text": [
      "Academic license - for non-commercial use only\n",
      "The optimal value is: -1.2499831248018781e6\n",
      "The optimal x value is: [1.0, 1.0, 1.0, 1.0, 1.0, 1.0, 1.0, 1.0]\n",
      "The weights given is: [0.125004, 0.124999, 0.124999, 0.124999, 0.124999, 0.124999, 0.125, 0.125]\n"
     ]
    }
   ],
   "source": [
    "# 2-norm \n",
    "using JuMP,Gurobi\n",
    "lmd=10000000;\n",
    "m1 = Model(solver=GurobiSolver(OutputFlag = 0))\n",
    "\n",
    "@variable(m1, x[1:8],Bin)\n",
    "@variable(m1, wt[1:8]>=0)\n",
    "\n",
    "@constraint(m1, sum(wt[i] for i in 1:8)==1)\n",
    "\n",
    "# for i = 1:8\n",
    "     # @constraint(m1, wt[i]>=(1-x[i])+0.01*x[i])\n",
    "# end\n",
    "@constraint(m1, (10000 * wt) .>= x)\n",
    "@constraint(m1, (wt) .<= x)\n",
    "\n",
    "@objective(m1, Max, sum(a[i]*wt[i] for i in 1:8)- lmd*sum(wt.^2))\n",
    "solve(m1)\n",
    "println(\"The optimal value is: \", getobjectivevalue(m1))\n",
    "println(\"The optimal x value is: \", getvalue(x))\n",
    "println(\"The weights given is: \",getvalue(wt))"
   ]
  },
  {
   "cell_type": "code",
   "execution_count": 4,
   "metadata": {},
   "outputs": [
    {
     "name": "stdout",
     "output_type": "stream",
     "text": [
      "Academic license - for non-commercial use only\n",
      "The optimal value is: -124983.125\n",
      "The optimal x is: [1.0, 1.0, 1.0, 1.0, 1.0, 1.0, 1.0, 1.0]\n",
      "The weights given is: [0.125, 0.125, 0.125, 0.125, 0.125, 0.125, 0.125, 0.125]\n"
     ]
    }
   ],
   "source": [
    "# Infinity norm\n",
    "using JuMP,Gurobi\n",
    "lmd=1000000;\n",
    "\n",
    "m2 = Model(solver=GurobiSolver(OutputFlag = 0))\n",
    "\n",
    "@variable(m2, x[1:8],Bin)\n",
    "@variable(m2, wt[1:8]>=0)\n",
    "@variable(m2, r)\n",
    "@constraint(m2, sum(wt[i] for i in 1:8)==1)\n",
    "@constraint(m2, wt .<= r )\n",
    "@constraint(m2, -r .<= wt )\n",
    "@constraint(m2, (10000 * wt) .>= x)\n",
    "@constraint(m2, (wt) .<= x)\n",
    "\n",
    "@objective(m2, Max, sum(a[i]*wt[i] for i in 1:8)-lmd*r)\n",
    "solve(m2)\n",
    "println(\"The optimal value is: \", getobjectivevalue(m2))\n",
    "println(\"The optimal x is: \", getvalue(x))\n",
    "println(\"The weights given is: \",getvalue(wt))"
   ]
  },
  {
   "cell_type": "markdown",
   "metadata": {},
   "source": [
    "Here we can conclude that, by choosing a big $\\lambda$, we have equal weights for all elements. However, when extending this method for our actual problem , this ends up picking many courses beyond requirement as minimizing the norm becomes the primary objective. However, maximizing GPA does not necessarily mean that we pick all courses. Hence, we go for another method of computing the GPA as described below."
   ]
  },
  {
   "cell_type": "markdown",
   "metadata": {},
   "source": [
    "* **Using extra logic variables:** The failure of penalizing method forces us to shift to something else. We come up with another method based on the logic behind this.  \n",
    "\n",
    "<center>If $\\mathbf{x}_i=1$ and $\\mathbf{x}_j=1$ then $\\mathbf{wt}_i=\\mathbf{wt}_j$</center>\n",
    "\n",
    "This means that if we have selected two items i.e. ${x}_i = 1$ and ${x}_j = 1$ then we are going to assign the two items the same weights. In this way if we consider every pair of items ${x}_i$ and ${x}_j$ and assign them equal weights whenever both of them are equal to 1, then all items with a value 1 get assigned the same weight. By adding the constraint that the sum of these weights must be 1, we ensure that each item gets multiplied with $\\frac{1}{N}$ where $N$ is the number of ${x}_i$'s assigned a value 1.\n",
    "\n",
    "However, we cannot model this constrait in a straightforward way. Inspired by \n",
    "> $(P_1\\wedge P_2)\\Rightarrow P_3$ can be transfered into $\\delta_1+\\delta_2\\leq1+\\delta_3$\n",
    "\n",
    "in [Lecture 20](#http://www.laurentlessard.com/teaching/cs524/slides/20%20-%20logic%20constraints%20and%20integer%20variables.pdf), we add an extra logic variable $\\mathbf{d}\\in\\mathbb{R}^{n\\times n}$, where:\n",
    "$$\\mathbf{d}_{ij}= \\begin{cases} \n",
    "      1 & \\mathbf{x}_i=1\\, \\&\\, \\mathbf{x}_j=1 \\\\\n",
    "      0 & \\text{otherwise.}\n",
    "   \\end{cases}\n",
    "$$\n",
    "So we have \n",
    "<center>If $\\mathbf{x}_i = 1$ and $\\mathbf{x}_j = 1$, then $\\mathbf{d}_{ij} = 1$;</center>\n",
    "<center>If $\\mathbf{d}_{i,j} = 1$, then $\\mathbf{wt}_i=\\mathbf{wt}_j $.</center>\n",
    "\n",
    "Based on that, we build our model as following:\n",
    "\n",
    "\\begin{aligned}\n",
    "\\underset{\\mathbf{x},\\mathbf{wt},\\mathbf{d}}{\\text{maximize}}\\qquad& \\sum_{i=1}^n \\mathbf{x}_i - \\sum_{i=1}^n \\mathbf{wt}_i \\mathbf{a}_i  \\\\\n",
    "\\text{subject to:}\\qquad\n",
    "                  &\\sum_{i=1}^n \\mathbf{wt}_i = 1 \\\\\n",
    "                  & \\mathbf{x}_i + \\mathbf{x}_j \\leq 1 + \\mathbf{d}_{ij} && i,j=1,\\dots,n\\\\\n",
    "                  & -(1-\\mathbf{d}_{ij}) \\leq \\mathbf{wt}_i -\\mathbf{wt}_j && i,j=1,\\dots,n\\\\\n",
    "                  & 1-\\mathbf{d}_{ij} \\geq \\mathbf{wt}_i-\\mathbf{wt}_j && i,j=1,\\dots,n\\\\\n",
    "                  & 0 \\leq \\mathbf{wt}_i \\leq \\mathbf{x}_i && i=1,\\dots,n \\\\\n",
    "                  & \\mathbf{x}_i \\in \\{0,1\\} && i=1,\\dots,n\\\\\n",
    "                  & \\mathbf{d}_{ij} \\in \\{0,1\\} && i,j=1,\\dots,n\\\\\n",
    "\\end{aligned}"
   ]
  },
  {
   "cell_type": "code",
   "execution_count": 5,
   "metadata": {},
   "outputs": [
    {
     "name": "stdout",
     "output_type": "stream",
     "text": [
      "Academic license - for non-commercial use only\r\n",
      "The optimal value is: 2.0\n",
      "The optimal x is: [-0.0, 1.0, 1.0, 1.0, 1.0, 1.0, 1.0, 1.0]\n",
      "The weights given is: [0.0, 0.142857, 0.142857, 0.142857, 0.142857, 0.142857, 0.142857, 0.142857]\n"
     ]
    },
    {
     "data": {
      "text/plain": [
       "8×8 Array{Float64,2}:\n",
       "  1.0  -0.0  0.0  -0.0  0.0  -0.0  0.0  -0.0\n",
       "  0.0   1.0  1.0   1.0  1.0   1.0  1.0   1.0\n",
       " -0.0   1.0  1.0   1.0  1.0   1.0  1.0   1.0\n",
       "  0.0   1.0  1.0   1.0  1.0   1.0  1.0   1.0\n",
       "  0.0   1.0  1.0   1.0  1.0   1.0  1.0   1.0\n",
       "  0.0   1.0  1.0   1.0  1.0   1.0  1.0   1.0\n",
       "  0.0   1.0  1.0   1.0  1.0   1.0  1.0   1.0\n",
       "  0.0   1.0  1.0   1.0  1.0   1.0  1.0   1.0"
      ]
     },
     "execution_count": 5,
     "metadata": {},
     "output_type": "execute_result"
    }
   ],
   "source": [
    "# Logic variables\n",
    "using JuMP,Gurobi\n",
    "\n",
    "m3 = Model(solver=GurobiSolver(OutputFlag = 0))\n",
    "\n",
    "@variable(m3, x[1:8],Bin)\n",
    "@variable(m3, wt[1:8]>=0)\n",
    "@variable(m3, q[1:8,1:8],Bin)\n",
    "\n",
    "@constraint(m3, sum(wt[i] for i in 1:8)==1)\n",
    "\n",
    "for i in 1:8\n",
    "        @constraint(m3,wt[i] <= x[i]) # instead of @constraint(m3, wt[i]>=(1-x[i])+0.01*x[i])\n",
    "    for j in 1:8\n",
    "        @constraint(m3,x[i]+x[j] <= 1+q[i,j])\n",
    "        @constraint(m3,-(1-q[i,j]) <= wt[i]-wt[j])\n",
    "        @constraint(m3,(1-q[i,j]) >= wt[i]-wt[j])\n",
    "    end\n",
    "end\n",
    "\n",
    "@objective(m3, Max, sum(x[i]-a[i]*wt[i] for i in 1:8))\n",
    "solve(m3)\n",
    "println(\"The optimal value is: \", getobjectivevalue(m3))\n",
    "println(\"The optimal x is: \", getvalue(x))\n",
    "println(\"The weights given is: \",getvalue(wt))\n",
    "getvalue(q)"
   ]
  },
  {
   "cell_type": "markdown",
   "metadata": {},
   "source": [
    "As expected, this yields reasonable results. "
   ]
  },
  {
   "cell_type": "markdown",
   "metadata": {},
   "source": [
    "#### 2.C.c GPA\n",
    "To calculate GPA, we need to model weighted mean:\n",
    "$$ \\mathbf{w}_i = \\frac{\\mathbf{c}_i}{\\sum_{i \\in courses} \\mathbf{c}_i},$$\n",
    "\n",
    "$$  gp = \\sum_{i \\in courses} \\mathbf{w}_i \\mathbf{g}_i,\n",
    "$$\n",
    "where $\\mathbf{c}_i$ is number of credits for course $i$, $\\mathbf{g}_i$ is the expected GPA for course $i$, $courses$ is the set of all the courses offered.\n",
    "This is not very different from the toy model we solved in previous section, besides it is weighted by credits of the course.\n",
    "We add another variable in order to build the weighted mean model.\n",
    "\n",
    "$\\mathbf{D}$ is a boolean matrix of size $N \\times N$: \n",
    "$$\\mathbf{D}_{ij}= \\begin{cases} \n",
    "      1 & \\text{both course $i$ and course $j$ are taken} \\\\\n",
    "      0 & \\text{otherwise}\n",
    "   \\end{cases}\n",
    "$$\n",
    "\n",
    "The logic behind this is:\n",
    "\n",
    "If $\\mathbf{z}_i = 1$ and $\\mathbf{z}_j = 1$, then $\\mathbf{D}_{ij} = 1$;\n",
    "\n",
    "If $\\mathbf{D}_{i,j} = 1$, then $\\mathbf{w}_i \\mathbf{c}_j=\\mathbf{w}_j \\mathbf{c}_i$.\n",
    "\n",
    "Add several constraints based on the logic:\n",
    "$$\\mathbf{z}_i + \\mathbf{z}_j \\leq 1 + \\mathbf{D}_{ij},$$\n",
    "\n",
    " \n",
    "$\\mathbf{w}_i$ cannot exceed 1, and the max credit for one course is 6. So we use -6/6 as lower/upper bound.\n",
    "\n",
    "$$-6(1-\\mathbf{D}_{ij}) \\leq \\mathbf{w}_i \\mathbf{c}_j-\\mathbf{w}_j \\mathbf{c}_i, $$\n",
    "\n",
    "$$ 6(1-\\mathbf{D}_{ij}) \\geq \\mathbf{w}_i \\mathbf{c}_j-\\mathbf{w}_j \\mathbf{c}_i, $$\n",
    "\n",
    "Also all entries in $\\mathbf{w}$ should sum up to 1:\n",
    "$$\n",
    "   \\sum_{i \\in courses} \\mathbf{w}_i = 1.\n",
    "$$"
   ]
  },
  {
   "cell_type": "markdown",
   "metadata": {},
   "source": [
    "#### 2.C.d Knowledge Gain\n",
    "\n",
    "For each course, we assign gain of this course for several different domains. \n",
    "Our objective function for knowledge gain of domain $j$ is:\n",
    "$$\\sum_{i \\in courses} \\mathbf{z}_i . score_{ij},$$\n",
    "where $score_{ij}$ is the score for course $i$ in domain $j$."
   ]
  },
  {
   "cell_type": "markdown",
   "metadata": {},
   "source": [
    "#### 2.C.e Minimal Difficulty\n",
    "\n",
    "For each course, we assign difficulty of this course. \n",
    "Our objective function for knowledge gain of domain $j$ is:\n",
    "$$\\sum_{i \\in courses} \\mathbf{z}_i . difficulty_{i},$$\n",
    "where $difficulty_{i}$ is the difficulty for course $i$."
   ]
  },
  {
   "cell_type": "markdown",
   "metadata": {},
   "source": [
    "## 3. Solution ##"
   ]
  },
  {
   "cell_type": "code",
   "execution_count": 6,
   "metadata": {},
   "outputs": [],
   "source": [
    "using JuMP,Cbc,Gurobi,Mosek\n",
    "using NamedArrays"
   ]
  },
  {
   "cell_type": "markdown",
   "metadata": {},
   "source": [
    "### Input the data and pre-processing "
   ]
  },
  {
   "cell_type": "code",
   "execution_count": 7,
   "metadata": {},
   "outputs": [],
   "source": [
    "raw = readcsv(\"g_data.csv\"); \n",
    "schedule=readcsv(\"g_schedule.csv\");\n",
    "number_of_courses=80 # To test, enter a value between 1 and 80\n",
    "(x,y) = size(raw)\n",
    "(a,b) =size(schedule)\n",
    "\n",
    "x_attributes = 2:8      # columns containing course attributes\n",
    "y_courses = 2:number_of_courses+1          # rows containing course names\n",
    "\n",
    "b_days=2:9\n",
    "\n",
    "attributes = raw[1,x_attributes][:]   # the list of course attributes (convert to 1-D array)\n",
    "\n",
    "courses = raw[y_courses,1][:]         # the list of courses (convert to 1-D array)\n",
    "semester=schedule[y_courses,9][:]\n",
    "semester_offered=Dict(zip(courses,semester))\n",
    "\n",
    "pre=raw[y_courses,3][:]\n",
    "\n",
    "\n",
    "for i in 1:length(pre)\n",
    "   \n",
    "    pre[i]=string(pre[i])\n",
    "    if pre[i]!=\"\"\n",
    "    pre[i]=map(x->parse(Int,x), split(pre[i], \",\"))\n",
    "        #print(typeof(pre[i]))\n",
    "    else\n",
    "        m=[]\n",
    "        pre[i]=m\n",
    "        \n",
    "    end\n",
    "    \n",
    "end\n",
    "pred = Dict(zip(courses,pre))\n",
    "\n",
    "\n",
    "AI=raw[y_courses,4][:]\n",
    "AI_score = Dict(zip(courses,AI))\n",
    "Systems=raw[y_courses,5][:]\n",
    "Systems_score = Dict(zip(courses,Systems))\n",
    "credits=raw[y_courses,7][:]\n",
    "no_credits=Dict(zip(courses,credits))\n",
    "st=schedule[y_courses,7][:]\n",
    "start_time=Dict(zip(courses,st))\n",
    "et=schedule[y_courses,8][:]\n",
    "end_time=Dict(zip(courses,et))\n",
    "gpa=raw[y_courses,8][:]\n",
    "exp_gpa=Dict(zip(courses,gpa));\n",
    "\n",
    "days=schedule[1,2:6][:]                   # the list of days (convert to 1-D array)            \n",
    "course_schedule=NamedArray(schedule[y_courses,2:6],(courses,days),(\"courses\",\"days\"));\n",
    "#conflicts=NamedArray(schedule[y_courses,y_courses],(courses,courses),(\"courses\",\"courses\"))\n",
    "conflicts=zeros(number_of_courses,number_of_courses)\n",
    "\n",
    "core_credits=0;"
   ]
  },
  {
   "cell_type": "markdown",
   "metadata": {},
   "source": [
    "###  Variables , constraints and expressions used throughout the model"
   ]
  },
  {
   "cell_type": "code",
   "execution_count": 8,
   "metadata": {},
   "outputs": [
    {
     "name": "stdout",
     "output_type": "stream",
     "text": [
      "\n"
     ]
    }
   ],
   "source": [
    "m = Model(solver=GurobiSolver(OutputFlag = 0))\n",
    "@variable(m, z[courses],Bin)  #boolean vector for all the courses\n",
    "@variable(m, z1[courses],Bin) #boolean vector for semester 1 \n",
    "@variable(m, z2[courses],Bin) #boolean vector for semester 2 \n",
    "@variable(m, z3[courses],Bin) #boolean vector for semester 3 \n",
    "@variable(m, z4[courses],Bin) #boolean vector for semester 4 \n",
    "@variable(m, d[courses,courses],Bin) \n",
    "@variable(m, w[courses]>=0) \n",
    "\n",
    "\n",
    "# You should take a certain number of core credits\n",
    "for i in 1:length(courses)\n",
    "    if courses[i]>=700\n",
    "       core_credits=core_credits+z[courses[i]]*credits[i]\n",
    "    end\n",
    "end\n",
    "@constraint(m,core_credits>=15) # core constraint;\n",
    "\n",
    "println()"
   ]
  },
  {
   "cell_type": "markdown",
   "metadata": {},
   "source": [
    "### weight for every course towards GPA"
   ]
  },
  {
   "cell_type": "code",
   "execution_count": 9,
   "metadata": {},
   "outputs": [],
   "source": [
    "for i in courses\n",
    "     @constraint(m, w[i] <= z[i])\n",
    "    for j in courses\n",
    "        @constraint(m,z[i]+z[j] <= 1+d[i,j])\n",
    "        @constraint(m,-6(1-d[i,j]) <= no_credits[j]*w[i]-no_credits[i]*w[j])\n",
    "        @constraint(m,6(1-d[i,j]) >= no_credits[j]*w[i]-no_credits[i]*w[j])\n",
    "    end\n",
    "end"
   ]
  },
  {
   "cell_type": "markdown",
   "metadata": {},
   "source": [
    "### Model of the conflict Matrix"
   ]
  },
  {
   "cell_type": "code",
   "execution_count": 10,
   "metadata": {},
   "outputs": [],
   "source": [
    "for i in 1:length(courses) \n",
    "    for j in 1:length(courses)\n",
    "        conflicts[i,j]=0\n",
    "    end\n",
    "end\n",
    "\n",
    "\n",
    "\n",
    "for i in 1:length(courses) \n",
    "    for j in 1:length(courses)\n",
    "        if i!=j\n",
    "        for k in days\n",
    "            if semester_offered[courses[i]]==semester_offered[courses[j]] || semester_offered[courses[i]]==0 || semester_offered[courses[j]]==0\n",
    "            if course_schedule[i,k]==1 && course_schedule[j,k]==1\n",
    "                   if ((start_time[courses[i]]-end_time[courses[j]])*(start_time[courses[j]]-end_time[courses[i]]))>0\n",
    "                        #println(courses[i])\n",
    "                        #println(courses[j])\n",
    "                        conflicts[i,j]=1\n",
    "                    \n",
    "                    end\n",
    "                \n",
    "                end\n",
    "            \n",
    "            end\n",
    "        end\n",
    "        end\n",
    "    end\n",
    "end"
   ]
  },
  {
   "cell_type": "markdown",
   "metadata": {},
   "source": [
    "### First Semester Courses"
   ]
  },
  {
   "cell_type": "code",
   "execution_count": 11,
   "metadata": {},
   "outputs": [],
   "source": [
    "for i in courses\n",
    "    \n",
    "\n",
    "        for j in pred[i]\n",
    "            @constraint(m, z1[j]>=z1[i])  # The prerequisites for the course should be taken in the previous semesters\n",
    "            @constraint(m,z1[i]+z1[j]<=1) # Cannot take a course and its prerequisite in the same semester\n",
    "            \n",
    "            end\n",
    "       end\n",
    "\n",
    "for i in courses\n",
    "        # Check if course is offered in the current semester or not\n",
    "        @constraint(m,z1[i]*semester_offered[i]>=0)\n",
    "end\n",
    "@constraint(m,s1[i in 1:length(courses),j in 1:length(courses)],z1[courses[i]]*conflicts[i,j] +z1[courses[j]]*conflicts[i,j]<=1);\n",
    " "
   ]
  },
  {
   "cell_type": "markdown",
   "metadata": {},
   "source": [
    "### Second Semester Courses"
   ]
  },
  {
   "cell_type": "code",
   "execution_count": 12,
   "metadata": {},
   "outputs": [],
   "source": [
    "for i in courses\n",
    "  \n",
    "    \n",
    "        for j in pred[i]\n",
    "            @constraint(m, z1[j]>=z2[i])\n",
    "            @constraint(m,z2[i]+z2[j]<=1)\n",
    "            end\n",
    "       \n",
    "       end\n",
    "for i in courses    \n",
    "@constraint(m,z2[i]*semester_offered[i]<=0)\n",
    "end\n",
    "@constraint(m,s2[i in 1:length(courses),j in 1:length(courses)],z2[courses[i]]*conflicts[i,j] +z2[courses[j]]*conflicts[i,j]<=1);"
   ]
  },
  {
   "cell_type": "markdown",
   "metadata": {},
   "source": [
    "### Third Semester Courses"
   ]
  },
  {
   "cell_type": "code",
   "execution_count": 13,
   "metadata": {},
   "outputs": [],
   "source": [
    "for i in courses\n",
    "  \n",
    "    \n",
    "        for j in pred[i]\n",
    "            @constraint(m, z1[j]+z2[j]>=z3[i])\n",
    "            @constraint(m,z3[i]+z3[j]<=1)\n",
    "            end\n",
    "       \n",
    "       end\n",
    "\n",
    "for i in courses    \n",
    "@constraint(m,z3[i]*semester_offered[i]>=0)\n",
    "end\n",
    "@constraint(m,s3[i in 1:length(courses),j in 1:length(courses)],z3[courses[i]]*conflicts[i,j] +z3[courses[j]]*conflicts[i,j]<=1);"
   ]
  },
  {
   "cell_type": "markdown",
   "metadata": {},
   "source": [
    "### Fourth Semester Courses"
   ]
  },
  {
   "cell_type": "code",
   "execution_count": 14,
   "metadata": {},
   "outputs": [],
   "source": [
    "for i in courses\n",
    "  \n",
    "    \n",
    "        for j in pred[i]\n",
    "            @constraint(m, z1[j]+z2[j]+z3[j]>=z4[i])\n",
    "            @constraint(m,z4[i]+z4[j]<=1)\n",
    "            end\n",
    "       \n",
    "       end\n",
    "\n",
    "for i in courses    \n",
    "@constraint(m,z4[i]*semester_offered[i]<=0)\n",
    "end\n",
    "@constraint(m,s4[i in 1:length(courses),j in 1:length(courses)],z4[courses[i]]*conflicts[i,j] +z4[courses[j]]*conflicts[i,j]<=1);"
   ]
  },
  {
   "cell_type": "markdown",
   "metadata": {},
   "source": [
    "### A course can only be taken once, and atleast one course should be taken per semster"
   ]
  },
  {
   "cell_type": "code",
   "execution_count": 15,
   "metadata": {},
   "outputs": [],
   "source": [
    "#A course can be taken only once\n",
    "for i in courses\n",
    "    @constraint(m,z1[i]+z2[i]+z3[i]+z4[i]==z[i])\n",
    "end\n",
    "\n",
    "\n",
    " #Atleast one course should be taken in a semester\n",
    "@constraint(m,sum(z1)>=1)\n",
    "@constraint(m,sum(z2)>=1)\n",
    "@constraint(m,sum(z3)>=1)\n",
    "@constraint(m,sum(z4)>=1)\n",
    ";"
   ]
  },
  {
   "cell_type": "markdown",
   "metadata": {},
   "source": [
    "## Objective for minimize tuition fee"
   ]
  },
  {
   "cell_type": "code",
   "execution_count": 16,
   "metadata": {},
   "outputs": [],
   "source": [
    "credits_per_semester = 1:16; #credits can not exceed 16 for one single semester\n",
    "total_fee_per = [1699.18,3347.36,4995.54,6643.72,8147.12,9650.52,9650.52,9650.52,9650.52,\n",
    "9650.52,9650.52,9650.52,9650.52,9650.52,9650.52,9650.52]; #corresponding fee\n",
    "# total_fee_per = [4000.18,3347.36,4995.54,6643.72,8147.12,9650.52,9650.52,9650.52,9650.52,\n",
    "# 9650.52,9650.52,9650.52,9650.52,9650.52,9650.52,9650.52]; #corresponding fee"
   ]
  },
  {
   "cell_type": "code",
   "execution_count": 17,
   "metadata": {},
   "outputs": [
    {
     "name": "stderr",
     "output_type": "stream",
     "text": [
      "\u001b[1m\u001b[33mWARNING: \u001b[39m\u001b[22m\u001b[33mA variable or constraint named λ1 is already attached to this model. If creating variables programmatically, use the anonymous variable syntax x = @variable(m, [1:N], ...).\u001b[39m\n",
      "\u001b[1m\u001b[33mWARNING: \u001b[39m\u001b[22m\u001b[33mA variable or constraint named λ2 is already attached to this model. If creating variables programmatically, use the anonymous variable syntax x = @variable(m, [1:N], ...).\u001b[39m\n",
      "\u001b[1m\u001b[33mWARNING: \u001b[39m\u001b[22m\u001b[33mA variable or constraint named λ3 is already attached to this model. If creating variables programmatically, use the anonymous variable syntax x = @variable(m, [1:N], ...).\u001b[39m\n",
      "\u001b[1m\u001b[33mWARNING: \u001b[39m\u001b[22m\u001b[33mA variable or constraint named λ4 is already attached to this model. If creating variables programmatically, use the anonymous variable syntax x = @variable(m, [1:N], ...).\u001b[39m\n"
     ]
    },
    {
     "name": "stdout",
     "output_type": "stream",
     "text": [
      "Academic license - for non-commercial use only\n",
      "  7.428450 seconds (3.45 M allocations: 183.491 MiB, 1.58% gc time)\n",
      "22699.4\n",
      "22699.4\n",
      "31.0\n",
      "Your courses for Fall 2017\n",
      "300\n",
      "770\n",
      "202\n",
      "302\n",
      "899\n",
      "Credits: 15.0\n",
      "Tuition fee: 9650.52\n",
      "Your courses for Spring 2018:\n",
      "304\n",
      "Credits: 1.0\n",
      "Tuition fee: 1699.18\n",
      "Your courses for Fall 2018:\n",
      "368\n",
      "Credits: 1.0\n",
      "Tuition fee: 1699.18\n",
      "Your courses for Spring 2019:\n",
      "402\n",
      "525\n",
      "790\n",
      "838\n",
      "880\n",
      "Credits: 14.0\n",
      "Tuition fee: 9650.52\n"
     ]
    }
   ],
   "source": [
    "@variable(m,0<=λ1[1:16]<=1)\n",
    "@variable(m,0<=λ2[1:16]<=1)\n",
    "@variable(m,0<=λ3[1:16]<=1)\n",
    "@variable(m,0<=λ4[1:16]<=1)\n",
    "@variable(m,λ1[1:16],Bin)\n",
    "@variable(m,λ2[1:16],Bin)\n",
    "@variable(m,λ3[1:16],Bin)\n",
    "@variable(m,λ4[1:16],Bin)\n",
    "\n",
    "# addSOS1(m,λ1)\n",
    "# addSOS1(m,λ2)\n",
    "# addSOS1(m,λ3)\n",
    "# addSOS1(m,λ4)\n",
    "#for semester 1\n",
    "@expression(m,credits_obtained1,sum(z1[courses[i]]*credits[i] for i in 1:length(courses)))\n",
    "@constraint(m,sum(λ1[i] for i in 1:16)==1)\n",
    "@constraint(m,sum(credits_per_semester[i]*λ1[i] for i in 1:16)==credits_obtained1)\n",
    "@expression(m,total_fee1,sum(total_fee_per[i]*λ1[i] for i in 1:16))\n",
    "#for semester 2\n",
    "@expression(m,credits_obtained2,sum(z2[courses[i]]*credits[i] for i in 1:length(courses)))\n",
    "@constraint(m,sum(λ2[i] for i in 1:16)==1)\n",
    "@constraint(m,sum(credits_per_semester[i]*λ2[i] for i in 1:16)==credits_obtained2)\n",
    "@expression(m,total_fee2,sum(total_fee_per[i]*λ2[i] for i in 1:16))\n",
    "#for semester 3\n",
    "@expression(m,credits_obtained3,sum(z3[courses[i]]*credits[i] for i in 1:length(courses)))\n",
    "@constraint(m,sum(λ3[i] for i in 1:16)==1)\n",
    "@constraint(m,sum(credits_per_semester[i]*λ3[i] for i in 1:16)==credits_obtained3)\n",
    "@expression(m,total_fee3,sum(total_fee_per[i]*λ3[i] for i in 1:16))\n",
    "#for semester 4\n",
    "@expression(m,credits_obtained4,sum(z4[courses[i]]*credits[i] for i in 1:length(courses)))\n",
    "@constraint(m,sum(λ4[i] for i in 1:16)==1)\n",
    "@constraint(m,sum(credits_per_semester[i]*λ4[i] for i in 1:16)==credits_obtained4)\n",
    "@expression(m,total_fee4,sum(total_fee_per[i]*λ4[i] for i in 1:16))\n",
    "\n",
    "#for all semsters\n",
    "@expression(m,credits_obtained,credits_obtained1+credits_obtained2+credits_obtained3+credits_obtained4)\n",
    "@constraint(m,credits_obtained>=30);\n",
    "\n",
    "@objective(m,Min,total_fee1+total_fee2+total_fee3+total_fee4)\n",
    "\n",
    "@time solve(m)\n",
    "println(getobjectivevalue(m))\n",
    "println(getobjectivevalue(m))\n",
    "println(getvalue(credits_obtained))\n",
    "\n",
    "println(\"Your courses for Fall 2017\")\n",
    "for i in courses\n",
    "    if getvalue(z1[i])==1\n",
    "        println(i)\n",
    "    end\n",
    "end\n",
    "println(\"Credits: \",getvalue(credits_obtained1))\n",
    "println(\"Tuition fee: \",getvalue(total_fee1))\n",
    "println(\"Your courses for Spring 2018:\")\n",
    "for i in courses\n",
    "    if getvalue(z2[i])==1\n",
    "        println(i)\n",
    "    end\n",
    "end\n",
    "println(\"Credits: \",getvalue(credits_obtained2))\n",
    "println(\"Tuition fee: \",getvalue(total_fee2))\n",
    "println(\"Your courses for Fall 2018:\")\n",
    "for i in courses\n",
    "    if getvalue(z3[i])==1\n",
    "        println(i)\n",
    "    end\n",
    "end\n",
    "println(\"Credits: \",getvalue(credits_obtained3))\n",
    "println(\"Tuition fee: \",getvalue(total_fee3))\n",
    "println(\"Your courses for Spring 2019:\")\n",
    "for i in courses\n",
    "    if getvalue(z4[i])==1\n",
    "        println(i)\n",
    "    end\n",
    "end\n",
    "println(\"Credits: \",getvalue(credits_obtained4))\n",
    "println(\"Tuition fee: \",getvalue(total_fee4))"
   ]
  },
  {
   "cell_type": "markdown",
   "metadata": {},
   "source": [
    "## Objective for maximizing the GPA"
   ]
  },
  {
   "cell_type": "code",
   "execution_count": 18,
   "metadata": {
    "scrolled": false
   },
   "outputs": [
    {
     "name": "stdout",
     "output_type": "stream",
     "text": [
      " 18.527079 seconds (1.77 k allocations: 2.976 MiB)\n",
      "3.791290322580557\n",
      "31.0\n",
      "Your courses for Fall 2017\n",
      "300\n",
      "899\n",
      "Your courses for Spring 2018:\n",
      "298\n",
      "525\n",
      "704\n",
      "Your courses for Fall 2018:\n",
      "790\n",
      "Your courses for Spring 2019:\n",
      "402\n",
      "681\n",
      "838\n",
      "570\n",
      "880\n"
     ]
    }
   ],
   "source": [
    "@expression(m,credits_obtained,sum(z[courses[i]]*credits[i] for i in 1:length(courses)))\n",
    "@constraint(m,credits_obtained>=30);\n",
    "@constraint(m, sum(w) == 1)\n",
    "@expression(m,val,sum((z[i]-w[i])*(z[i]-w[i]) for i in courses)) \n",
    "@expression(m, gp,(sum(w[i] * exp_gpa[i] for i in courses)))\n",
    "@expression(m,true_gp,(sum(z[i]*exp_gpa[i] for i in courses)))\n",
    "\n",
    "\n",
    "@objective(m,Max,gp)\n",
    "\n",
    "@time solve(m)\n",
    "println(getvalue(gp))\n",
    "println(getvalue(credits_obtained))\n",
    "\n",
    "println(\"Your courses for Fall 2017\")\n",
    "for i in courses\n",
    "    if getvalue(z1[i])==1\n",
    "        println(i)\n",
    "    end\n",
    "end\n",
    "println(\"Your courses for Spring 2018:\")\n",
    "for i in courses\n",
    "    if getvalue(z2[i])==1\n",
    "        println(i)\n",
    "    end\n",
    "end\n",
    "println(\"Your courses for Fall 2018:\")\n",
    "for i in courses\n",
    "    if getvalue(z3[i])==1\n",
    "        println(i)\n",
    "    end\n",
    "end\n",
    "println(\"Your courses for Spring 2019:\")\n",
    "for i in courses\n",
    "    if getvalue(z4[i])==1\n",
    "        println(i)\n",
    "    end\n",
    "end"
   ]
  },
  {
   "cell_type": "markdown",
   "metadata": {},
   "source": [
    "### Objective for maximizing the gain from courses"
   ]
  },
  {
   "cell_type": "code",
   "execution_count": 19,
   "metadata": {},
   "outputs": [
    {
     "name": "stdout",
     "output_type": "stream",
     "text": [
      "  1.631253 seconds (76 allocations: 2.884 MiB, 0.67% gc time)\n",
      "3.4974576271186026\n",
      "59.0\n",
      "Your courses for Fall 2017\n",
      "300\n",
      "200\n",
      "202\n",
      "302\n",
      "790\n",
      "Your courses for Spring 2018:\n",
      "240\n",
      "400\n",
      "838\n",
      "471\n",
      "513\n",
      "Your courses for Fall 2018:\n",
      "532\n",
      "540\n",
      "770\n",
      "539\n",
      "899\n",
      "Your courses for Spring 2019:\n",
      "524\n",
      "760\n",
      "270\n",
      "681\n",
      "558\n"
     ]
    }
   ],
   "source": [
    "@expression(m, domain_score, sum(z[i]*AI_score[i] for i in courses)) \n",
    "@objective(m, Max, domain_score)     # total duration is start time of last task + duration of last task.\n",
    "@time solve(m)\n",
    "println(getvalue(gp))\n",
    "println(getvalue(credits_obtained))\n",
    "\n",
    "println(\"Your courses for Fall 2017\")\n",
    "for i in courses\n",
    "     if getvalue(z1[i])==1\n",
    "         println(i)\n",
    "     end\n",
    " end\n",
    " println(\"Your courses for Spring 2018:\")\n",
    " for i in courses\n",
    "     if getvalue(z2[i])==1\n",
    "         println(i)\n",
    "     end\n",
    " end\n",
    " println(\"Your courses for Fall 2018:\")\n",
    " for i in courses\n",
    "     if getvalue(z3[i])==1\n",
    "         println(i)\n",
    "     end\n",
    " end\n",
    " println(\"Your courses for Spring 2019:\")\n",
    " for i in courses\n",
    "     if getvalue(z4[i])==1\n",
    "        println(i)\n",
    "     end\n",
    "end"
   ]
  },
  {
   "cell_type": "markdown",
   "metadata": {},
   "source": [
    "### Objective to graduate with minimal difficulty"
   ]
  },
  {
   "cell_type": "code",
   "execution_count": 20,
   "metadata": {},
   "outputs": [
    {
     "name": "stdout",
     "output_type": "stream",
     "text": [
      "  1.051191 seconds (76 allocations: 2.884 MiB)\n",
      "3.3360000000000083\n",
      "30.0\n",
      "Your courses for Fall 2017\n",
      "300\n",
      "240\n",
      "Your courses for Spring 2018:\n",
      "536\n",
      "202\n",
      "790\n",
      "704\n",
      "Your courses for Fall 2018:\n",
      "706\n",
      "200\n",
      "703\n",
      "Your courses for Spring 2019:\n",
      "701\n"
     ]
    }
   ],
   "source": [
    "@expression(m, difficulty_score, sum(z[i]*(i/700+i/500+i/300) for i in courses)) \n",
    "@objective(m, Min, difficulty_score)     # total duration is start time of last task + duration of last task.\n",
    "@time solve(m)\n",
    "println(getvalue(gp))\n",
    "println(getvalue(credits_obtained))\n",
    "\n",
    "println(\"Your courses for Fall 2017\")\n",
    "for i in courses\n",
    "     if getvalue(z1[i])==1\n",
    "         println(i)\n",
    "     end\n",
    " end\n",
    " println(\"Your courses for Spring 2018:\")\n",
    " for i in courses\n",
    "     if getvalue(z2[i])==1\n",
    "         println(i)\n",
    "     end\n",
    " end\n",
    " println(\"Your courses for Fall 2018:\")\n",
    " for i in courses\n",
    "     if getvalue(z3[i])==1\n",
    "         println(i)\n",
    "     end\n",
    " end\n",
    " println(\"Your courses for Spring 2019:\")\n",
    " for i in courses\n",
    "     if getvalue(z4[i])==1\n",
    "        println(i)\n",
    "     end\n",
    "end"
   ]
  },
  {
   "cell_type": "code",
   "execution_count": 21,
   "metadata": {},
   "outputs": [
    {
     "name": "stdout",
     "output_type": "stream",
     "text": [
      "3.6362500000001465\n",
      "32.0\n",
      "Your courses for Fall 2017\n",
      "300\n",
      "770\n",
      "302\n",
      "790\n",
      "899\n",
      "Your courses for Spring 2018:\n",
      "270\n",
      "681\n",
      "838\n",
      "513\n",
      "880\n",
      "Your courses for Fall 2018:\n",
      "368\n",
      "Your courses for Spring 2019:\n",
      "304\n"
     ]
    }
   ],
   "source": [
    "@expression(m, difficulty_score, sum(z[i]*(i/700+i/500+i/300) for i in courses)) \n",
    "@objective(m, Min, 0.1*difficulty_score -0.9*domain_score+0.1*(total_fee1+total_fee2+total_fee3+total_fee4)-0.5*gp)     # total duration is start time of last task + duration of last task.\n",
    "solve(m)\n",
    "println(getvalue(gp))\n",
    "println(getvalue(credits_obtained))\n",
    "\n",
    "println(\"Your courses for Fall 2017\")\n",
    "for i in courses\n",
    "     if getvalue(z1[i])==1\n",
    "         println(i)\n",
    "     end\n",
    " end\n",
    " println(\"Your courses for Spring 2018:\")\n",
    " for i in courses\n",
    "     if getvalue(z2[i])==1\n",
    "         println(i)\n",
    "     end\n",
    " end\n",
    " println(\"Your courses for Fall 2018:\")\n",
    " for i in courses\n",
    "     if getvalue(z3[i])==1\n",
    "         println(i)\n",
    "     end\n",
    " end\n",
    " println(\"Your courses for Spring 2019:\")\n",
    " for i in courses\n",
    "     if getvalue(z4[i])==1\n",
    "        println(i)\n",
    "     end\n",
    "end"
   ]
  },
  {
   "cell_type": "markdown",
   "metadata": {},
   "source": [
    "## 4. Results and discussion ##"
   ]
  },
  {
   "cell_type": "markdown",
   "metadata": {},
   "source": [
    "### 4.A. Regularization: picking the best among optimal solutions\n",
    "We get an optimal solution for the stated objectives and the four objectives are totally independent. We observe that there could be more than one optimal solution for a given objective. In such cases, we could use regularization to pick the best solution. For example, among multiple solutions that give the same tuition fee, we could pick the one that gives the maximum GPA as below :"
   ]
  },
  {
   "cell_type": "code",
   "execution_count": 22,
   "metadata": {},
   "outputs": [
    {
     "name": "stdout",
     "output_type": "stream",
     "text": [
      "  7.108787 seconds (76 allocations: 2.884 MiB)\n",
      "22695.688387096776\n",
      "22695.688387096776\n",
      "31.0\n",
      "Your courses for Fall 2017\n",
      "300\n",
      "770\n",
      "302\n",
      "790\n",
      "899\n",
      "Credits: 15.0\n",
      "Tuition fee: 9650.52\n",
      "Your courses for Spring 2018:\n",
      "304\n",
      "Credits: 1.0\n",
      "Tuition fee: 1699.18\n",
      "Your courses for Fall 2018:\n",
      "368\n",
      "Credits: 1.0\n",
      "Tuition fee: 1699.18\n",
      "Your courses for Spring 2019:\n",
      "402\n",
      "681\n",
      "838\n",
      "570\n",
      "880\n",
      "Credits: 14.0\n",
      "Tuition fee: 9650.52\n"
     ]
    }
   ],
   "source": [
    "@objective(m,Min,total_fee1+total_fee2+total_fee3+total_fee4-gp)\n",
    "\n",
    "@time solve(m)\n",
    "println(getobjectivevalue(m))\n",
    "println(getobjectivevalue(m))\n",
    "println(getvalue(credits_obtained))\n",
    "\n",
    "println(\"Your courses for Fall 2017\")\n",
    "for i in courses\n",
    "    if getvalue(z1[i])==1\n",
    "        println(i)\n",
    "    end\n",
    "end\n",
    "println(\"Credits: \",getvalue(credits_obtained1))\n",
    "println(\"Tuition fee: \",getvalue(total_fee1))\n",
    "println(\"Your courses for Spring 2018:\")\n",
    "for i in courses\n",
    "    if getvalue(z2[i])==1\n",
    "        println(i)\n",
    "    end\n",
    "end\n",
    "println(\"Credits: \",getvalue(credits_obtained2))\n",
    "println(\"Tuition fee: \",getvalue(total_fee2))\n",
    "println(\"Your courses for Fall 2018:\")\n",
    "for i in courses\n",
    "    if getvalue(z3[i])==1\n",
    "        println(i)\n",
    "    end\n",
    "end\n",
    "println(\"Credits: \",getvalue(credits_obtained3))\n",
    "println(\"Tuition fee: \",getvalue(total_fee3))\n",
    "println(\"Your courses for Spring 2019:\")\n",
    "for i in courses\n",
    "    if getvalue(z4[i])==1\n",
    "        println(i)\n",
    "    end\n",
    "end\n",
    "println(\"Credits: \",getvalue(credits_obtained4))\n",
    "println(\"Tuition fee: \",getvalue(total_fee4))"
   ]
  },
  {
   "cell_type": "markdown",
   "metadata": {},
   "source": [
    "To pick a solution that yields the best domain score among all solutions with the same tuition cost :"
   ]
  },
  {
   "cell_type": "code",
   "execution_count": 23,
   "metadata": {},
   "outputs": [
    {
     "name": "stdout",
     "output_type": "stream",
     "text": [
      "  4.557571 seconds (76 allocations: 2.884 MiB)\n",
      "22693.74\n",
      "22693.74\n",
      "32.0\n",
      "Your courses for Fall 2017\n",
      "300\n",
      "770\n",
      "302\n",
      "681\n",
      "899\n",
      "Credits: 15.0\n",
      "Tuition fee: 9650.52\n",
      "Your courses for Spring 2018:\n",
      "270\n",
      "790\n",
      "838\n",
      "513\n",
      "880\n",
      "Credits: 15.0\n",
      "Tuition fee: 9650.52\n",
      "Your courses for Fall 2018:\n",
      "304\n",
      "Credits: 1.0\n",
      "Tuition fee: 1699.18\n",
      "Your courses for Spring 2019:\n",
      "368\n",
      "Credits: 1.0\n",
      "Tuition fee: 1699.18\n"
     ]
    }
   ],
   "source": [
    "@objective(m,Min,total_fee1+total_fee2+total_fee3+total_fee4-domain_score)\n",
    "\n",
    "@time solve(m)\n",
    "println(getobjectivevalue(m))\n",
    "println(getobjectivevalue(m))\n",
    "println(getvalue(credits_obtained))\n",
    "\n",
    "println(\"Your courses for Fall 2017\")\n",
    "for i in courses\n",
    "    if getvalue(z1[i])==1\n",
    "        println(i)\n",
    "    end\n",
    "end\n",
    "println(\"Credits: \",getvalue(credits_obtained1))\n",
    "println(\"Tuition fee: \",getvalue(total_fee1))\n",
    "println(\"Your courses for Spring 2018:\")\n",
    "for i in courses\n",
    "    if getvalue(z2[i])==1\n",
    "        println(i)\n",
    "    end\n",
    "end\n",
    "println(\"Credits: \",getvalue(credits_obtained2))\n",
    "println(\"Tuition fee: \",getvalue(total_fee2))\n",
    "println(\"Your courses for Fall 2018:\")\n",
    "for i in courses\n",
    "    if getvalue(z3[i])==1\n",
    "        println(i)\n",
    "    end\n",
    "end\n",
    "println(\"Credits: \",getvalue(credits_obtained3))\n",
    "println(\"Tuition fee: \",getvalue(total_fee3))\n",
    "println(\"Your courses for Spring 2019:\")\n",
    "for i in courses\n",
    "    if getvalue(z4[i])==1\n",
    "        println(i)\n",
    "    end\n",
    "end\n",
    "println(\"Credits: \",getvalue(credits_obtained4))\n",
    "println(\"Tuition fee: \",getvalue(total_fee4))"
   ]
  },
  {
   "cell_type": "markdown",
   "metadata": {},
   "source": [
    "### 4.B. Thanks to Gurobi "
   ]
  },
  {
   "cell_type": "markdown",
   "metadata": {},
   "source": [
    "We experimented the model on Clp, Mosek and Gurobi and so were the results when running the model with \"Maximize GPA constraint\" :"
   ]
  },
  {
   "cell_type": "markdown",
   "metadata": {},
   "source": [
    "| Number of courses considered        | Cbc | Mosek |Gurobi|\n",
    "| ------------- |:-------------:| -----:|-----:|\n",
    "| 20     | 39 seconds      |17 minutes |0.93 seconds |\n",
    "| 40     | 4 minutes     | >30 minutes |2.23 seconds |\n",
    "| 60 | 3.45 hours      | >2 hours |13.49 seconds |\n",
    "| 80 | > 5 hours      | - |25.9 seconds |\n",
    "\n"
   ]
  },
  {
   "cell_type": "markdown",
   "metadata": {},
   "source": [
    "This is the constraint that takes the maximum time to solve and is clearly dependent on the number of courses to search on. An intuitive reasoning could be that the maximize GPA constraint gives a space filled with local optimum. A local optimum would be a global optimum with other constraints. \n"
   ]
  },
  {
   "cell_type": "markdown",
   "metadata": {},
   "source": [
    "Let us understand this with respect to adding an extra course to a student's schedule.\n",
    "### Maximize domain score :\n",
    "Adding an extra course can improve domain score or make it stay same.\n",
    "### Minimize tuition :\n",
    "Adding an extra course increases or does not change tuition.\n",
    "### Minimize difficulty :\n",
    "Adding an extra course worsens the objective.\n",
    "### Maximize GPA :\n",
    "Adding an extra course improves or worsens the GPA. This may lead the solver to explore the search space exhaustively."
   ]
  },
  {
   "cell_type": "markdown",
   "metadata": {},
   "source": [
    "The plots below show the optimal objective value for the 4 constraints versus the number of credits."
   ]
  },
  {
   "cell_type": "code",
   "execution_count": 24,
   "metadata": {},
   "outputs": [
    {
     "data": {
      "image/png": "[encoded data removed]",
      "text/plain": [
       "PyPlot.Figure(PyObject <matplotlib.figure.Figure object at 0x000000002607A278>)"
      ]
     },
     "metadata": {},
     "output_type": "display_data"
    },
    {
     "data": {
      "image/png": "[encoded data removed]",
      "text/plain": [
       "PyPlot.Figure(PyObject <matplotlib.figure.Figure object at 0x0000000002EEE048>)"
      ]
     },
     "metadata": {},
     "output_type": "display_data"
    },
    {
     "data": {
      "image/png": "[encoded data removed]",
      "text/plain": [
       "PyPlot.Figure(PyObject <matplotlib.figure.Figure object at 0x0000000002F076A0>)"
      ]
     },
     "metadata": {},
     "output_type": "display_data"
    },
    {
     "data": {
      "image/png": "[encoded data removed]",
      "text/plain": [
       "PyPlot.Figure(PyObject <matplotlib.figure.Figure object at 0x0000000002F8BD68>)"
      ]
     },
     "metadata": {},
     "output_type": "display_data"
    },
    {
     "data": {
      "text/plain": [
       "PyObject <matplotlib.text.Text object at 0x0000000002FA5278>"
      ]
     },
     "execution_count": 24,
     "metadata": {},
     "output_type": "execute_result"
    }
   ],
   "source": [
    "credit=[30,31,32,33,34,35,36,37,38,39,40,41,42,43,44,45,46,47,48,49,50,51,52,53,54,55,56,57,58,59,60]\n",
    "gpa=[3.78,3.791,3.788,3.77,3.777,3.774,3.758,3.76,3.758,3.745,3.75275,3.75,3.742,3.744,3.743,3.738,3.732,3.732,3.732,\n",
    "    3.721,3.725,3.725,3.715,3.718,3.718,3.70,3.710,3.710,3.701,3.70,3.704]\n",
    "tuition_cost=[22699.4,22699.4,22699.4,22699.4,24347.58,24347.58,25995.76,27643.94,29147.34,30650.74,30650.74,30650.74,\n",
    "30650.74,30650.74,30650.74,30650.74,30650.74,30650.74,30650.74,30650.74,32298.92,33947.10,35595.28,37098.68,38602.08\n",
    ",38602.08,38602.08,38602.08,38602.08,38602.08,38602.08]\n",
    "gain=[9.20,9.20,9.2,9.7,9.7,9.7,10.2,10.2,10.26,10.50,10.50,10.86,10.96,10.96,11.36,11.36,11.36,11.86,11.86,11.86,12.16\n",
    ",12.16,12.16,12.46,12.46,12.46,12.66,12.66,12.66,12.86,12.86]\n",
    "difficulty=[22.0,23.13,23.51,24.5,25.42,25.99,27.22,27.46,28.48,29.475,29.84,30.99,31.85,32.33,33.70,34.35,34.84,36.45,36.85\n",
    ",37.54,39.34,39.56,40.30,42.09,42.31,43.51,45.03,45.52,47.02,48.04,49.04]\n",
    "\n",
    "\n",
    "\n",
    "using PyPlot\n",
    "\n",
    "figure(figsize=(8,4))\n",
    "plot(credit,gpa,\"r-\", markersize=10)\n",
    "axis([29,61,3.6,4])\n",
    "grid(\"on\")\n",
    "title(\"Number of Credits Vs Maximum Expected GPA\")\n",
    "xlabel(\"No of credits\")\n",
    "ylabel(\"Maximum Expected GPA\")\n",
    "\n",
    "\n",
    "using PyPlot\n",
    "figure(figsize=(8,4))\n",
    "plot(credit,tuition_cost,\"r-\", markersize=10)\n",
    "axis([29,61,20000,50000])\n",
    "grid(\"on\")\n",
    "title(\"Number of Credits Vs Minimum Tuition Cost\")\n",
    "xlabel(\"No of credits\")\n",
    "ylabel(\"Minimum Tuition Cost\")\n",
    "\n",
    "using PyPlot\n",
    "figure(figsize=(8,4))\n",
    "plot(credit,gain,\"r-\", markersize=10)\n",
    "axis([29,61,9,20])\n",
    "grid(\"on\")\n",
    "title(\"Number of Credits Vs Maximum Domain Score\")\n",
    "xlabel(\"No of credits\")\n",
    "ylabel(\"Maximum Domain Score\")\n",
    "\n",
    "using PyPlot\n",
    "figure(figsize=(8,4))\n",
    "plot(credit,difficulty,\"r-\", markersize=10)\n",
    "axis([29,61,22,50])\n",
    "grid(\"on\")\n",
    "title(\"Number of Credits Vs Minimum Difficulty Score\")\n",
    "xlabel(\"No of credits\")\n",
    "ylabel(\"Minimum Difficulty Score\")"
   ]
  },
  {
   "cell_type": "markdown",
   "metadata": {},
   "source": [
    "From the figures, we guess that the presence of too many local optima in GPA maximization constraint makes it a harder problem to solve."
   ]
  },
  {
   "cell_type": "markdown",
   "metadata": {},
   "source": [
    "### 4.C. Limitation of the model"
   ]
  },
  {
   "cell_type": "markdown",
   "metadata": {},
   "source": [
    "### Works on a reduced number of parameters :\n",
    "Our model considers a restricted subset of the constraints that would apply to this problem in real time. In an ideal case, gain that a student gets from a set of courses depends highly on the correlation between the set of courses under consideration. In that way, a student will be able to appreciate the subjects better. Also, we assume that a course has only one section in a given semester. In reality, a course has several sections in a given semester. That leaves multiple options for the student to consider."
   ]
  },
  {
   "cell_type": "markdown",
   "metadata": {},
   "source": [
    "## 5. Conclusion ##"
   ]
  },
  {
   "cell_type": "markdown",
   "metadata": {},
   "source": [
    "In this project, we solved an optimization problem using techniques learned in class to select the ideal set of courses based on his or her preferences to graduate. In real time, the objectives tend to become more specific based on the student's idea of the graudate program.\n",
    "\n",
    "For example, a student may be interested in completing a selected set of courses. We could think of modelling this as a \"Set Cover\" problem by finding the smallest set of courses that includes a student's preferred courses. Or, if a student tends to complete a course within a particular semester. For example, one student wants to finish Machine Learning course before 2nd semester and Operating systems before 3rd semester. This could be modelled as a variant of the Hovercraft problem with minimum overall tuition or maximum GPA. \n",
    "\n",
    "As stated, the time taken by the best solver (Gurobi in our case) increases with the size of the course set. We can explore alternative modelling techniques that could improve the solving time. "
   ]
  },
  {
   "cell_type": "code",
   "execution_count": null,
   "metadata": {},
   "outputs": [],
   "source": []
  }
 ],
 "metadata": {
  "kernelspec": {
   "display_name": "Julia 0.6.2",
   "language": "julia",
   "name": "julia-0.6"
  },
  "language_info": {
   "file_extension": ".jl",
   "mimetype": "application/julia",
   "name": "julia",
   "version": "0.6.2"
  }
 },
 "nbformat": 4,
 "nbformat_minor": 2
}
